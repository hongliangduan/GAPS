{
 "cells": [
  {
   "cell_type": "code",
   "execution_count": 7,
   "id": "finite-respondent",
   "metadata": {},
   "outputs": [],
   "source": [
    "import os\n",
    "import torch as pt\n",
    "from tqdm import tqdm\n",
    "from glob import glob\n",
    "from src.dataset import StructuresDataset, col_batch\n",
    "from src.data_encoding import en_structure, en_features, ext_topology\n",
    "from src.structure import encode_bfactor, concatenate_chains, split_by_chain\n",
    "from src.structure_io import save_pdb\n",
    "from src.config import config_model\n",
    "from model.model import Model"
   ]
  },
  {
   "cell_type": "code",
   "execution_count": 8,
   "id": "9b923fbb-2072-496e-b83a-dea465f8e26e",
   "metadata": {},
   "outputs": [],
   "source": [
    "data_path = \"test_tmp\"\n",
    "# data_path = \"your_pdb_data_path\""
   ]
  },
  {
   "cell_type": "code",
   "execution_count": 9,
   "id": "varying-essence",
   "metadata": {},
   "outputs": [],
   "source": [
    "save_path = \"checkpoints\"\n",
    "model_filepath = os.path.join(save_path, 'model.pt')"
   ]
  },
  {
   "cell_type": "code",
   "execution_count": 10,
   "id": "settled-adult",
   "metadata": {},
   "outputs": [],
   "source": [
    "device = pt.device(\"cpu\")\n",
    "model = Model(config_model)\n",
    "model.load_state_dict(pt.load(model_filepath, map_location=pt.device(\"cpu\")))\n",
    "model = model.eval().to(device)"
   ]
  },
  {
   "cell_type": "code",
   "execution_count": 11,
   "id": "614c5e28-7dbb-4746-9db1-020523dab479",
   "metadata": {},
   "outputs": [
    {
     "name": "stdout",
     "output_type": "stream",
     "text": [
      "1\n"
     ]
    }
   ],
   "source": [
    "pdb_filepaths = glob(os.path.join(data_path, \"*.pdb\"), recursive=True)\n",
    "pdb_filepaths = [fp for fp in pdb_filepaths if \"_p\" not in fp]\n",
    "dataset = StructuresDataset(pdb_filepaths, with_preprocessing=True)\n",
    "print(len(dataset))"
   ]
  },
  {
   "cell_type": "code",
   "execution_count": 12,
   "id": "0b1e4fea-0e3e-4a6a-a096-597015b4591b",
   "metadata": {},
   "outputs": [
    {
     "name": "stderr",
     "output_type": "stream",
     "text": [
      "100%|██████████| 1/1 [00:07<00:00,  7.50s/it]\n"
     ]
    }
   ],
   "source": [
    "with pt.no_grad():\n",
    "    for subunits, filepath in tqdm(dataset):\n",
    "        structure = concatenate_chains(subunits)\n",
    "        X, M = en_structure(structure)\n",
    "        q = en_features(structure)[0]\n",
    "        ids_topk, _, _, _, _ = ext_topology(X, 64)\n",
    "        X, ids_topk, q, M = col_batch([[X, ids_topk, q, M]])\n",
    "        z = model(X.to(device), ids_topk.to(device), q.to(device), M.float().to(device))\n",
    "        p = pt.sigmoid(z)\n",
    "        structure = encode_bfactor(structure, p.cpu().numpy())\n",
    "        output_filepath = filepath[:-4]+'_p.pdb'\n",
    "        save_pdb(split_by_chain(structure), output_filepath)"
   ]
  }
 ],
 "metadata": {
  "kernelspec": {
   "display_name": "pesto",
   "language": "python",
   "name": "python3"
  },
  "language_info": {
   "codemirror_mode": {
    "name": "ipython",
    "version": 3
   },
   "file_extension": ".py",
   "mimetype": "text/x-python",
   "name": "python",
   "nbconvert_exporter": "python",
   "pygments_lexer": "ipython3",
   "version": "3.10.4"
  }
 },
 "nbformat": 4,
 "nbformat_minor": 5
}
